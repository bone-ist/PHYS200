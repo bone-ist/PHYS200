{
 "metadata": {
  "name": "Ch3Ex1"
 }, 
 "nbformat": 2, 
 "worksheets": [
  {
   "cells": [
    {
     "cell_type": "code", 
     "collapsed": false, 
     "input": [
      "repeat_lyrics()", 
      "def print_lyrics():", 
      "    print \"I'm a lumberjack, and I'm okay.\"", 
      "    print \"I sleep all night and I work all day.\"", 
      "def repeat_lyrics():", 
      "    print_lyrics()", 
      "    print_lyrics()"
     ], 
     "language": "python", 
     "outputs": [
      {
       "ename": "NameError", 
       "evalue": "name 'repeat_lyrics' is not defined", 
       "output_type": "pyerr", 
       "traceback": [
        "<span class=\"ansired\">---------------------------------------------------------------------------</span>\n<span class=\"ansired\">NameError</span>                                 Traceback (most recent call last)", 
        "<span class=\"ansigreen\">/Users/katemiles/&lt;ipython-input-1-9f73f2711465&gt;</span> in <span class=\"ansicyan\">&lt;module&gt;</span><span class=\"ansiblue\">()</span>\n<span class=\"ansigreen\">----&gt; 1</span><span class=\"ansired\"> </span>repeat_lyrics<span class=\"ansiblue\">(</span><span class=\"ansiblue\">)</span><span class=\"ansiblue\"></span>\n<span class=\"ansigreen\">      2</span> <span class=\"ansigreen\">def</span> print_lyrics<span class=\"ansiblue\">(</span><span class=\"ansiblue\">)</span><span class=\"ansiblue\">:</span><span class=\"ansiblue\"></span>\n<span class=\"ansigreen\">      3</span>     <span class=\"ansigreen\">print</span> <span class=\"ansiblue\">&quot;I&apos;m a lumberjack, and I&apos;m okay.&quot;</span><span class=\"ansiblue\"></span>\n<span class=\"ansigreen\">      4</span>     <span class=\"ansigreen\">print</span> <span class=\"ansiblue\">&quot;I sleep all night and I work all day.&quot;</span><span class=\"ansiblue\"></span>\n<span class=\"ansigreen\">      5</span> <span class=\"ansigreen\">def</span> repeat_lyrics<span class=\"ansiblue\">(</span><span class=\"ansiblue\">)</span><span class=\"ansiblue\">:</span><span class=\"ansiblue\"></span>\n", 
        "<span class=\"ansired\">NameError</span>: name &apos;repeat_lyrics&apos; is not defined"
       ]
      }
     ], 
     "prompt_number": 1
    }, 
    {
     "cell_type": "code", 
     "collapsed": true, 
     "input": [], 
     "language": "python", 
     "outputs": [], 
     "prompt_number": "&nbsp;"
    }
   ]
  }
 ]
}