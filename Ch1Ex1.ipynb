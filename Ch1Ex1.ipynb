{
 "metadata": {
  "name": "Ch1Ex1"
 },
 "nbformat": 3,
 "worksheets": [
  {
   "cells": [
    {
     "cell_type": "code",
     "collapsed": false,
     "input": [
      "I we!nt t%o the$ grocery st0re to bu***y so^me groceries.",
      "Purple eating for hefalumps hat be darling."
     ],
     "language": "python",
     "outputs": [
      {
       "ename": "SyntaxError",
       "evalue": "invalid syntax (<ipython-input-1-667046c16789>, line 1)",
       "output_type": "pyerr",
       "traceback": [
        "\u001b[0;36m  File \u001b[0;32m\"<ipython-input-1-667046c16789>\"\u001b[0;36m, line \u001b[0;32m1\u001b[0m\n\u001b[0;31m    I we!nt t%o the$ grocery st0re to bu***y so^me groceries.\u001b[0m\n\u001b[0m       ^\u001b[0m\n\u001b[0;31mSyntaxError\u001b[0m\u001b[0;31m:\u001b[0m invalid syntax\n"
       ]
      }
     ],
     "prompt_number": 1
    },
    {
     "cell_type": "code",
     "collapsed": true,
     "input": [],
     "language": "python",
     "outputs": []
    }
   ]
  }
 ]
}