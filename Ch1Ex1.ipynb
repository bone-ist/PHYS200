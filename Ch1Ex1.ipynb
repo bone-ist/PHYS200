{
 "metadata": {
  "name": "Ch1Ex1"
 }, 
 "nbformat": 2, 
 "worksheets": [
  {
   "cells": [
    {
     "cell_type": "code", 
     "collapsed": false, 
     "input": [
      "I we!nt t%o the$ grocery st0re to bu***y so^me groceries.", 
      "Purple eating for hefalumps hat be darling."
     ], 
     "language": "python", 
     "outputs": [
      {
       "ename": "SyntaxError", 
       "evalue": "invalid syntax (<ipython-input-1-667046c16789>, line 1)", 
       "output_type": "pyerr", 
       "traceback": [
        "<span class=\"ansicyan\">  File </span><span class=\"ansigreen\">&quot;&lt;ipython-input-1-667046c16789&gt;&quot;</span><span class=\"ansicyan\">, line </span><span class=\"ansigreen\">1</span>\n<span class=\"ansired\">    I we!nt t%o the$ grocery st0re to bu***y so^me groceries.</span>\n       ^\n<span class=\"ansired\">SyntaxError</span><span class=\"ansired\">:</span> invalid syntax\n"
       ]
      }
     ], 
     "prompt_number": 1
    }
   ]
  }
 ]
}