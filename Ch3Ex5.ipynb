{
 "metadata": {
  "name": "Ch3Ex5"
 }, 
 "nbformat": 2, 
 "worksheets": [
  {
   "cells": [
    {
     "cell_type": "code", 
     "collapsed": true, 
     "input": [
      "def do_four(f):", 
      "    f()", 
      "    f()", 
      "    f()", 
      "    f()"
     ], 
     "language": "python", 
     "outputs": [], 
     "prompt_number": 2
    }, 
    {
     "cell_type": "code", 
     "collapsed": true, 
     "input": [
      "def print_line():", 
      "    print '|         |         |'"
     ], 
     "language": "python", 
     "outputs": [], 
     "prompt_number": 11
    }, 
    {
     "cell_type": "code", 
     "collapsed": false, 
     "input": [
      "print '+','-','-','-','-','+','-','-','-','-','+'", 
      "do_four(print_line)", 
      "print '+','-','-','-','-','+','-','-','-','-','+'", 
      "do_four(print_line)", 
      "print '+','-','-','-','-','+','-','-','-','-','+'"
     ], 
     "language": "python", 
     "outputs": [
      {
       "output_type": "stream", 
       "stream": "stdout", 
       "text": [
        "+ - - - - + - - - - +", 
        "|         |         |", 
        "|         |         |", 
        "|         |         |", 
        "|         |         |", 
        "+ - - - - + - - - - +", 
        "|         |         |", 
        "|         |         |", 
        "|         |         |", 
        "|         |         |", 
        "+ - - - - + - - - - +"
       ]
      }
     ], 
     "prompt_number": 12
    }, 
    {
     "cell_type": "code", 
     "collapsed": true, 
     "input": [
      "def print_morelines():", 
      "    print '|         |         |         |         |'"
     ], 
     "language": "python", 
     "outputs": [], 
     "prompt_number": 16
    }, 
    {
     "cell_type": "code", 
     "collapsed": false, 
     "input": [
      "print '+','-','-','-','-','+','-','-','-','-','+','-','-','-','-','+','-','-','-','-','+'", 
      "do_four(print_morelines)", 
      "print '+','-','-','-','-','+','-','-','-','-','+','-','-','-','-','+','-','-','-','-','+'", 
      "do_four(print_morelines)", 
      "print '+','-','-','-','-','+','-','-','-','-','+','-','-','-','-','+','-','-','-','-','+'", 
      "do_four(print_morelines)", 
      "print '+','-','-','-','-','+','-','-','-','-','+','-','-','-','-','+','-','-','-','-','+'", 
      "do_four(print_morelines)", 
      "print '+','-','-','-','-','+','-','-','-','-','+','-','-','-','-','+','-','-','-','-','+'"
     ], 
     "language": "python", 
     "outputs": [
      {
       "output_type": "stream", 
       "stream": "stdout", 
       "text": [
        "+ - - - - + - - - - + - - - - + - - - - +", 
        "|         |         |         |         |", 
        "|         |         |         |         |", 
        "|         |         |         |         |", 
        "|         |         |         |         |", 
        "+ - - - - + - - - - + - - - - + - - - - +", 
        "|         |         |         |         |", 
        "|         |         |         |         |", 
        "|         |         |         |         |", 
        "|         |         |         |         |", 
        "+ - - - - + - - - - + - - - - + - - - - +", 
        "|         |         |         |         |", 
        "|         |         |         |         |", 
        "|         |         |         |         |", 
        "|         |         |         |         |", 
        "+ - - - - + - - - - + - - - - + - - - - +", 
        "|         |         |         |         |", 
        "|         |         |         |         |", 
        "|         |         |         |         |", 
        "|         |         |         |         |", 
        "+ - - - - + - - - - + - - - - + - - - - +"
       ]
      }
     ], 
     "prompt_number": 17
    }, 
    {
     "cell_type": "code", 
     "collapsed": true, 
     "input": [], 
     "language": "python", 
     "outputs": [], 
     "prompt_number": "&nbsp;"
    }
   ]
  }
 ]
}