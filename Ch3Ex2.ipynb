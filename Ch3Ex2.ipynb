{
 "metadata": {
  "name": "Ch3Ex2"
 }, 
 "nbformat": 2, 
 "worksheets": [
  {
   "cells": [
    {
     "cell_type": "code", 
     "collapsed": false, 
     "input": [
      "def print_lyrics():", 
      "    print \"I'm a lumberjack, and I'm okay.\"", 
      "    print \"I sleep all night and I work all day.\"", 
      "def repeat_lyrics():", 
      "    print_lyrics()", 
      "    print_lyrics()", 
      "repeat_lyrics()"
     ], 
     "language": "python", 
     "outputs": [
      {
       "output_type": "stream", 
       "stream": "stdout", 
       "text": [
        "I&apos;m a lumberjack, and I&apos;m okay.", 
        "I sleep all night and I work all day.", 
        "I&apos;m a lumberjack, and I&apos;m okay.", 
        "I sleep all night and I work all day."
       ]
      }
     ], 
     "prompt_number": 1
    }, 
    {
     "cell_type": "code", 
     "collapsed": true, 
     "input": [], 
     "language": "python", 
     "outputs": [], 
     "prompt_number": "&nbsp;"
    }
   ]
  }
 ]
}